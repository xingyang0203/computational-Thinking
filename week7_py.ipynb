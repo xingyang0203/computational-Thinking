{
  "nbformat": 4,
  "nbformat_minor": 0,
  "metadata": {
    "colab": {
      "name": "week7.py",
      "provenance": [],
      "collapsed_sections": [],
      "authorship_tag": "ABX9TyMzUIY9GV8W1FiN4M0k1TcY",
      "include_colab_link": true
    },
    "kernelspec": {
      "name": "python3",
      "display_name": "Python 3"
    }
  },
  "cells": [
    {
      "cell_type": "markdown",
      "metadata": {
        "id": "view-in-github",
        "colab_type": "text"
      },
      "source": [
        "<a href=\"https://colab.research.google.com/github/xingyang0203/computational-Thinking/blob/master/week7_py.ipynb\" target=\"_parent\"><img src=\"https://colab.research.google.com/assets/colab-badge.svg\" alt=\"Open In Colab\"/></a>"
      ]
    },
    {
      "cell_type": "code",
      "metadata": {
        "id": "ZHyUrdCxgKma",
        "outputId": "fdecef7e-52b7-4822-85fa-7b8f941ef3d7",
        "colab": {
          "base_uri": "https://localhost:8080/"
        }
      },
      "source": [
        "#任何數皆等於333\n",
        "magic_number=int(input('輸入數字:'))\n",
        "f=magic_number*0+333\n",
        "print('得結果為:%f'%(f))"
      ],
      "execution_count": 13,
      "outputs": [
        {
          "output_type": "stream",
          "text": [
            "輸入數字:5165225\n",
            "得結果為:333.000000\n"
          ],
          "name": "stdout"
        }
      ]
    }
  ]
}