{
  "nbformat": 4,
  "nbformat_minor": 0,
  "metadata": {
    "colab": {
      "name": "郭星暘-Week11.ipynb",
      "provenance": [],
      "authorship_tag": "ABX9TyO3lERJrkI6z/nFanTaj7IA",
      "include_colab_link": true
    },
    "kernelspec": {
      "name": "python3",
      "display_name": "Python 3"
    }
  },
  "cells": [
    {
      "cell_type": "markdown",
      "metadata": {
        "id": "view-in-github",
        "colab_type": "text"
      },
      "source": [
        "<a href=\"https://colab.research.google.com/github/xingyang0203/computational-Thinking/blob/master/%E9%83%AD%E6%98%9F%E6%9A%98_Week11.ipynb\" target=\"_parent\"><img src=\"https://colab.research.google.com/assets/colab-badge.svg\" alt=\"Open In Colab\"/></a>"
      ]
    },
    {
      "cell_type": "markdown",
      "metadata": {
        "id": "UYXT1OnJoo83"
      },
      "source": [
        "習題解答:報告分組\n"
      ]
    },
    {
      "cell_type": "code",
      "metadata": {
        "colab": {
          "base_uri": "https://localhost:8080/"
        },
        "id": "O-anIfYCuLJU",
        "outputId": "c0abeaf6-5b49-42a6-8f7d-fa718148b372"
      },
      "source": [
        "# 方法(一):商數\n",
        "## Input\n",
        "number = input(\"Enter a number?\")\n",
        "number = int(number)\n",
        "## Process\n",
        "group = (number - 1) // 5 + 1\n",
        "## Output\n",
        "print(\"Groups is\", group)"
      ],
      "execution_count": 22,
      "outputs": [
        {
          "output_type": "stream",
          "text": [
            "Enter a number?16\n",
            "Groups is 4\n"
          ],
          "name": "stdout"
        }
      ]
    }
  ]
}